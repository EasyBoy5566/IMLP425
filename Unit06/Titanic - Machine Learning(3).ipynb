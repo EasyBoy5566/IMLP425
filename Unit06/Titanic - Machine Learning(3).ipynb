{
 "cells": [
  {
   "cell_type": "markdown",
   "id": "aaff6836-c710-4322-8200-c5a7d31ae810",
   "metadata": {},
   "source": [
    "# Step1: 載入套件"
   ]
  },
  {
   "cell_type": "code",
   "execution_count": 2,
   "id": "7af08ff8-9623-44b6-8870-7931699dca9b",
   "metadata": {},
   "outputs": [],
   "source": [
    "import pandas as pd\n",
    "import matplotlib.pyplot as plt\n",
    "import seaborn as sns\n",
    "import numpy as np\n",
    "from sklearn.model_selection import cross_val_score\n",
    "from sklearn.ensemble import RandomForestClassifier\n",
    "from sklearn.svm import SVC\n",
    "from sklearn.preprocessing import StandardScaler\n",
    "from sklearn.pipeline import make_pipeline\n",
    "from sklearn.model_selection import GridSearchCV\n",
    "import warnings"
   ]
  },
  {
   "cell_type": "code",
   "execution_count": 3,
   "id": "6a8ccb42-be30-476e-92f6-79a86df105c0",
   "metadata": {},
   "outputs": [],
   "source": [
    "train=pd.read_csv(\"data/train.csv\")\n",
    "test=pd.read_csv(\"data/test.csv\")\n",
    "test2=pd.read_csv(\"data/test.csv\")\n",
    "titanic=pd.concat([train, test], sort=False)\n",
    "len_train=train.shape[0]"
   ]
  },
  {
   "cell_type": "markdown",
   "id": "cf4eef35-443a-4bee-85a6-adaf74370365",
   "metadata": {},
   "source": [
    "# Step2: 處裡缺失值"
   ]
  },
  {
   "cell_type": "code",
   "execution_count": 5,
   "id": "e38889db-3ae3-47c2-a19c-c70d53ff2a1f",
   "metadata": {},
   "outputs": [
    {
     "data": {
      "text/plain": [
       "Survived     418\n",
       "Age          263\n",
       "Fare           1\n",
       "Cabin       1014\n",
       "Embarked       2\n",
       "dtype: int64"
      ]
     },
     "execution_count": 5,
     "metadata": {},
     "output_type": "execute_result"
    }
   ],
   "source": [
    "titanic.isnull().sum()[titanic.isnull().sum()>0]"
   ]
  },
  {
   "cell_type": "code",
   "execution_count": 6,
   "id": "6f871b3c-628d-4f5c-ad74-e1972a55cc7a",
   "metadata": {},
   "outputs": [],
   "source": [
    "train.Fare=train.Fare.fillna(train.Fare.mean())\n",
    "test.Fare=test.Fare.fillna(train.Fare.mean())"
   ]
  },
  {
   "cell_type": "code",
   "execution_count": 11,
   "id": "26c7be64-b6a6-4dee-8b36-12e941a389b9",
   "metadata": {},
   "outputs": [],
   "source": [
    "train.Cabin=train.Cabin.fillna(\"unknow\")\n",
    "test.Cabin=test.Cabin.fillna(\"unknow\")"
   ]
  },
  {
   "cell_type": "code",
   "execution_count": 13,
   "id": "fde4cbc5-71c3-48e7-a223-958d8a66b187",
   "metadata": {},
   "outputs": [],
   "source": [
    "train.Embarked=train.Embarked.fillna(train.Embarked.mode()[0])\n",
    "test.Embarked=test.Embarked.fillna(train.Embarked.mode()[0])"
   ]
  },
  {
   "cell_type": "code",
   "execution_count": 15,
   "id": "cd890aeb-33ec-4d78-b929-e742b5b604b8",
   "metadata": {},
   "outputs": [],
   "source": [
    "train['title']=train.Name.apply(lambda x: x.split('.')[0].split(',')[1].strip())\n",
    "test['title']=test.Name.apply(lambda x: x.split('.')[0].split(',')[1].strip())"
   ]
  },
  {
   "cell_type": "code",
   "execution_count": 17,
   "id": "f4a853fe-78cd-4fab-a3e3-2c7ba1b7019e",
   "metadata": {},
   "outputs": [],
   "source": [
    "newtitles={\n",
    "    \"Capt\":       \"Officer\",\n",
    "    \"Col\":        \"Officer\",\n",
    "    \"Major\":      \"Officer\",\n",
    "    \"Jonkheer\":   \"Royalty\",\n",
    "    \"Don\":        \"Royalty\",\n",
    "    \"Sir\" :       \"Royalty\",\n",
    "    \"Dr\":         \"Officer\",\n",
    "    \"Rev\":        \"Officer\",\n",
    "    \"the Countess\":\"Royalty\",\n",
    "    \"Dona\":       \"Royalty\",\n",
    "    \"Mme\":        \"Mrs\",\n",
    "    \"Mlle\":       \"Miss\",\n",
    "    \"Ms\":         \"Mrs\",\n",
    "    \"Mr\" :        \"Mr\",\n",
    "    \"Mrs\" :       \"Mrs\",\n",
    "    \"Miss\" :      \"Miss\",\n",
    "    \"Master\" :    \"Master\",\n",
    "    \"Lady\" :      \"Royalty\"}"
   ]
  },
  {
   "cell_type": "code",
   "execution_count": 19,
   "id": "177bdf3b-d9a2-4b09-900c-e7e64dcd215c",
   "metadata": {},
   "outputs": [],
   "source": [
    "train['title']=train.title.map(newtitles)\n",
    "test['title']=test.title.map(newtitles)"
   ]
  },
  {
   "cell_type": "code",
   "execution_count": 21,
   "id": "2d4bff44-3b75-4e25-bf97-e4b3cae634de",
   "metadata": {},
   "outputs": [
    {
     "data": {
      "text/plain": [
       "title    Sex   \n",
       "Master   male       4.574167\n",
       "Miss     female    21.804054\n",
       "Mr       male      32.368090\n",
       "Mrs      female    35.718182\n",
       "Officer  female    49.000000\n",
       "         male      46.562500\n",
       "Royalty  female    40.500000\n",
       "         male      42.333333\n",
       "Name: Age, dtype: float64"
      ]
     },
     "execution_count": 21,
     "metadata": {},
     "output_type": "execute_result"
    }
   ],
   "source": [
    "train.groupby(['title','Sex']).Age.mean()"
   ]
  },
  {
   "cell_type": "code",
   "execution_count": 23,
   "id": "c0394c7f-60e2-4af7-b732-4de705fe7289",
   "metadata": {},
   "outputs": [],
   "source": [
    "def newage (cols):\n",
    "    title=cols.iloc[0]\n",
    "    Sex=cols.iloc[1]\n",
    "    Age=cols.iloc[2]\n",
    "    if pd.isnull(Age):\n",
    "        if title=='Master' and Sex==\"male\":\n",
    "            return 4.57\n",
    "        elif title=='Miss' and Sex=='female':\n",
    "            return 21.8\n",
    "        elif title=='Mr' and Sex=='male': \n",
    "            return 32.37\n",
    "        elif title=='Mrs' and Sex=='female':\n",
    "            return 35.72\n",
    "        elif title=='Officer' and Sex=='female':\n",
    "            return 49\n",
    "        elif title=='Officer' and Sex=='male':\n",
    "            return 46.56\n",
    "        elif title=='Royalty' and Sex=='female':\n",
    "            return 40.50\n",
    "        else:\n",
    "            return 42.33\n",
    "    else:\n",
    "        return Age "
   ]
  },
  {
   "cell_type": "code",
   "execution_count": 25,
   "id": "c54e8605-1454-42c2-9152-89033171bbb3",
   "metadata": {},
   "outputs": [],
   "source": [
    "train.Age=train[['title','Sex','Age']].apply(newage, axis=1)\n",
    "test.Age=test[['title','Sex','Age']].apply(newage, axis=1)"
   ]
  },
  {
   "cell_type": "code",
   "execution_count": 27,
   "id": "558586d7-53bf-4303-a569-d0193ab89893",
   "metadata": {},
   "outputs": [],
   "source": [
    "train['Relatives']=train.SibSp+train.Parch\n",
    "test['Relatives']=test.SibSp+test.Parch\n",
    "\n",
    "train['Ticket2']=train.Ticket.apply(lambda x : len(x))\n",
    "test['Ticket2']=test.Ticket.apply(lambda x : len(x))\n",
    "\n",
    "train['Cabin2']=train.Cabin.apply(lambda x : len(x))\n",
    "test['Cabin2']=test.Cabin.apply(lambda x : len(x))\n",
    "\n",
    "train['Name2']=train.Name.apply(lambda x: x.split(',')[0].strip())\n",
    "test['Name2']=test.Name.apply(lambda x: x.split(',')[0].strip())"
   ]
  },
  {
   "cell_type": "markdown",
   "id": "94f28609-a423-4ccb-b885-1a281765bb52",
   "metadata": {},
   "source": [
    "# Step3: 準備模型"
   ]
  },
  {
   "cell_type": "code",
   "execution_count": 30,
   "id": "03063b58-50ef-49e2-b105-038f70085f76",
   "metadata": {},
   "outputs": [],
   "source": [
    "#droping features I won't use in model\n",
    "#train.drop(['PassengerId','Name','Ticket','SibSp','Parch','Ticket','Cabin']\n",
    "train.drop(['PassengerId','Name','Ticket','SibSp','Parch','Ticket','Cabin'],axis=1,inplace=True)\n",
    "test.drop(['PassengerId','Name','Ticket','SibSp','Parch','Ticket','Cabin'],axis=1,inplace=True)"
   ]
  },
  {
   "cell_type": "code",
   "execution_count": 32,
   "id": "7fd0c73d-21f1-466e-8076-9fc30456733d",
   "metadata": {},
   "outputs": [],
   "source": [
    "titanic=pd.concat([train, test], sort=False)"
   ]
  },
  {
   "cell_type": "code",
   "execution_count": 34,
   "id": "ed0fd2c9-00d6-4c68-8870-de9ddc203ce1",
   "metadata": {},
   "outputs": [],
   "source": [
    "titanic=pd.get_dummies(titanic)"
   ]
  },
  {
   "cell_type": "code",
   "execution_count": 36,
   "id": "b829e503-ac62-4ee3-b7ab-6ebd47232361",
   "metadata": {},
   "outputs": [],
   "source": [
    "train=titanic[:len_train]\n",
    "test=titanic[len_train:]"
   ]
  },
  {
   "cell_type": "code",
   "execution_count": 46,
   "id": "5807f030-285b-48be-8a24-bf6ff5f56e78",
   "metadata": {},
   "outputs": [
    {
     "data": {
      "text/plain": [
       "dtype('int32')"
      ]
     },
     "execution_count": 46,
     "metadata": {},
     "output_type": "execute_result"
    }
   ],
   "source": [
    "# Lets change type of target\n",
    "train.loc[:, 'Survived'] = train['Survived'].astype('int')\n",
    "train['Survived'].dtype"
   ]
  },
  {
   "cell_type": "code",
   "execution_count": 47,
   "id": "1329be12-2f04-48aa-b5ac-c8ad09e93428",
   "metadata": {},
   "outputs": [],
   "source": [
    "xtrain=train.drop(\"Survived\",axis=1)\n",
    "ytrain=train['Survived']\n",
    "xtest=test.drop(\"Survived\", axis=1)"
   ]
  },
  {
   "cell_type": "markdown",
   "id": "a210a7cb-e597-4a41-9114-517dfb6c5f63",
   "metadata": {},
   "source": [
    "# Step4: 訓練模型"
   ]
  },
  {
   "cell_type": "code",
   "execution_count": 55,
   "id": "2cff6fd8-2dfa-4c79-ba37-7c02880ac50b",
   "metadata": {},
   "outputs": [],
   "source": [
    "svc=make_pipeline(StandardScaler(),SVC(random_state=1))\n",
    "r=[0.0001,0.001,0.1,1,10,50,100]\n",
    "PSVM=[{'svc__C':r, 'svc__kernel':['linear']},\n",
    "      {'svc__C':r, 'svc__gamma':r, 'svc__kernel':['rbf']}]\n",
    "GSSVM=GridSearchCV(estimator=svc, param_grid=PSVM, scoring='accuracy', cv=2)\n",
    "scores_svm=cross_val_score(GSSVM, xtrain.astype(float), ytrain,scoring='accuracy', cv=5)"
   ]
  },
  {
   "cell_type": "code",
   "execution_count": 57,
   "id": "2a8c0035-c0a2-4ff3-9e15-ebbcbcf992fb",
   "metadata": {},
   "outputs": [
    {
     "data": {
      "text/plain": [
       "0.8439645973259683"
      ]
     },
     "execution_count": 57,
     "metadata": {},
     "output_type": "execute_result"
    }
   ],
   "source": [
    "np.mean(scores_svm)"
   ]
  },
  {
   "cell_type": "markdown",
   "id": "bd7e2960-3f05-4c64-8886-36814a56f508",
   "metadata": {},
   "source": [
    "# Step5: 提交預測"
   ]
  },
  {
   "cell_type": "code",
   "execution_count": null,
   "id": "b93b9035-c0c1-4352-b7c5-6347203a4139",
   "metadata": {},
   "outputs": [],
   "source": [
    "model=GSSVM.fit(xtrain, ytrain)\n",
    "pred=model.predict(xtest)"
   ]
  },
  {
   "cell_type": "code",
   "execution_count": null,
   "id": "3c96dfe0-0710-4c90-9a09-c76885979508",
   "metadata": {},
   "outputs": [],
   "source": [
    "output=pd.DataFrame({'PassengerId':test2['PassengerId'],'Survived':pred})"
   ]
  },
  {
   "cell_type": "code",
   "execution_count": null,
   "id": "5172fb51-6b55-4997-b64b-c702a9062245",
   "metadata": {},
   "outputs": [],
   "source": [
    "output.to_csv('submission_3.csv', index=False)"
   ]
  },
  {
   "cell_type": "code",
   "execution_count": null,
   "id": "4ca01bba-28a4-4137-a4bb-38dceacec583",
   "metadata": {},
   "outputs": [],
   "source": []
  }
 ],
 "metadata": {
  "kernelspec": {
   "display_name": "Python 3 (ipykernel)",
   "language": "python",
   "name": "python3"
  },
  "language_info": {
   "codemirror_mode": {
    "name": "ipython",
    "version": 3
   },
   "file_extension": ".py",
   "mimetype": "text/x-python",
   "name": "python",
   "nbconvert_exporter": "python",
   "pygments_lexer": "ipython3",
   "version": "3.12.4"
  }
 },
 "nbformat": 4,
 "nbformat_minor": 5
}
