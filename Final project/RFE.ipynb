{
 "cells": [
  {
   "cell_type": "markdown",
   "id": "a4f23485-f205-4889-ad42-a82f9f99096f",
   "metadata": {},
   "source": [
    "# 遞規特徵消除法 (RFE,recursive feature elimination)\n",
    "RFE方法適用於預測輸出能夠直接解釋特徵重要性的模型，例如決策樹、隨機森林和或是具有係數的線性模型等，RFE方法透過遞迴減少特徵數量，能夠增強模型的泛化能力(Generalization Capability)，也就是讓模型在訓練資料以外的新資料上的預測能力也能夠有穩定的表現，另外能夠減少模型因為多餘的特徵或無相關性特徵而引起的過擬合(Overfitting)問題"
   ]
  },
  {
   "cell_type": "code",
   "execution_count": null,
   "id": "c9d8eab7-9be8-4997-ac5b-adcab8df66ba",
   "metadata": {},
   "outputs": [],
   "source": []
  }
 ],
 "metadata": {
  "kernelspec": {
   "display_name": "Python 3 (ipykernel)",
   "language": "python",
   "name": "python3"
  },
  "language_info": {
   "codemirror_mode": {
    "name": "ipython",
    "version": 3
   },
   "file_extension": ".py",
   "mimetype": "text/x-python",
   "name": "python",
   "nbconvert_exporter": "python",
   "pygments_lexer": "ipython3",
   "version": "3.12.4"
  }
 },
 "nbformat": 4,
 "nbformat_minor": 5
}
